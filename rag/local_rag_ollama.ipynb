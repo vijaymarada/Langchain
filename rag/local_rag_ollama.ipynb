{
 "cells": [
  {
   "cell_type": "code",
   "execution_count": 21,
   "id": "d912677e",
   "metadata": {},
   "outputs": [],
   "source": [
    "import chromadb\n",
    "from chromadb import PersistentClient\n",
    "from chromadb.config import Settings\n",
    "import requests\n",
    "import json\n",
    "import numpy as np\n",
    "\n",
    "chroma_client = PersistentClient(path=\"./chroma_data\")\n",
    "\n",
    "# create and populate the collection\n",
    "collection = chroma_client.get_or_create_collection(\"my_collection\")"
   ]
  },
  {
   "cell_type": "code",
   "execution_count": 6,
   "id": "ea852443",
   "metadata": {},
   "outputs": [],
   "source": [
    "def get_ollama_embedding(text):\n",
    "    url = \"http://localhost:11434/v1/embeddings\"\n",
    "    headers = {\"Content-Type\": \"application/json\"}\n",
    "    data = {\n",
    "        \"model\": \"llama3\",\n",
    "        \"input\": text\n",
    "    }\n",
    "    response = requests.post(url, headers=headers, json=data)\n",
    "    if response.status_code == 200:\n",
    "        embedding = response.json().get(\"data\", [])[0].get(\"embedding\", [])\n",
    "        return np.array(embedding)\n",
    "    return None"
   ]
  },
  {
   "cell_type": "code",
   "execution_count": 20,
   "id": "a961bf85",
   "metadata": {},
   "outputs": [],
   "source": [
    "def add_document(doc_id, text):\n",
    "    embedding = get_ollama_embedding(text)\n",
    "    if embedding is not None:\n",
    "        collection.add(\n",
    "            documents=[text],\n",
    "            embeddings=[embedding],\n",
    "            ids=[doc_id]\n",
    "        )\n",
    "\n",
    "def query_similar_documents(query, n_results=1):\n",
    "    query_embedding = get_ollama_embedding(query)\n",
    "    if query_embedding is not None:\n",
    "        results = collection.query(\n",
    "            query_embeddings=query_embedding,\n",
    "            n_results=n_results\n",
    "        )\n",
    "        return results\n",
    "    return None"
   ]
  },
  {
   "cell_type": "code",
   "execution_count": 22,
   "id": "ea9ace3d",
   "metadata": {},
   "outputs": [
    {
     "name": "stdout",
     "output_type": "stream",
     "text": [
      "Query Results: {'ids': [['3']], 'embeddings': None, 'documents': [['It is not yet clear if blockchain is going to disrupt healthcare, but healthcare organizations are monitoring its potential closely for prospective concepts like secure patient IDs. Realistically, the adoption and implementation of blockchains will be a gradual evolution over time, but now is the time to take a fresh look at its possibilities in healthcare and biomedical sciences.']], 'uris': None, 'included': ['metadatas', 'documents', 'distances'], 'data': None, 'metadatas': [[None]], 'distances': [[0.6282915472984314]]}\n"
     ]
    }
   ],
   "source": [
    "if __name__ == \"__main__\":\n",
    "    # Example usage\n",
    "    add_document(\"1\", \"Blockchain technology is associated with the financial industry, but it can be applied to other industries. The supporting architecture of blockchain has the immense potential to transform the delivery of healthcare, medical, clinical, and life sciences, due to the extended functionality and distinct features of its distributed ledger\")\n",
    "    add_document(\"2\", \"The potential scale of impact is comparable to that seen with the introduction of TCP/IP. Blockchain technology has captured the interest of healthcare providers and biomedical scientists within various healthcare domains such as longitudinal healthcare records, automated claims, drug development, interoperability in population health, consumer health, patient portals, medical research, data security, and reducing costs with supply chain management.\")\n",
    "    add_document(\"3\", \"It is not yet clear if blockchain is going to disrupt healthcare, but healthcare organizations are monitoring its potential closely for prospective concepts like secure patient IDs. Realistically, the adoption and implementation of blockchains will be a gradual evolution over time, but now is the time to take a fresh look at its possibilities in healthcare and biomedical sciences.\")\n",
    "\n",
    "    query = \"What is blockchain can disrupt?\"\n",
    "    results = query_similar_documents(query)\n",
    "    print(\"Query Results:\", results)"
   ]
  },
  {
   "cell_type": "code",
   "execution_count": null,
   "id": "77ce8d1b",
   "metadata": {},
   "outputs": [],
   "source": []
  }
 ],
 "metadata": {
  "kernelspec": {
   "display_name": ".venv",
   "language": "python",
   "name": "python3"
  },
  "language_info": {
   "codemirror_mode": {
    "name": "ipython",
    "version": 3
   },
   "file_extension": ".py",
   "mimetype": "text/x-python",
   "name": "python",
   "nbconvert_exporter": "python",
   "pygments_lexer": "ipython3",
   "version": "3.13.5"
  }
 },
 "nbformat": 4,
 "nbformat_minor": 5
}
